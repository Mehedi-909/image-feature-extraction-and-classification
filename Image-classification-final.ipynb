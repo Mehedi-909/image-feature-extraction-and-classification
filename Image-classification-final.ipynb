{
 "cells": [
  {
   "cell_type": "code",
   "execution_count": 1,
   "id": "9f3f1502",
   "metadata": {},
   "outputs": [],
   "source": [
    "from skimage.feature import hog\n",
    "from skimage.feature import local_binary_pattern\n",
    "import cv2 \n",
    "import os\n",
    "import numpy as np\n",
    "from sklearn import svm\n",
    "from sklearn.metrics import classification_report,accuracy_score\n",
    "import pandas as pd\n",
    "from sklearn.model_selection import train_test_split\n",
    "from sklearn.preprocessing import StandardScaler\n",
    "from sklearn.ensemble import RandomForestClassifier\n",
    "from sklearn.metrics import confusion_matrix\n",
    "from sklearn import metrics\n",
    "import joblib\n"
   ]
  },
  {
   "cell_type": "code",
   "execution_count": 4,
   "id": "bfac5c57",
   "metadata": {},
   "outputs": [],
   "source": [
    "# method to create data set\n",
    "def create_dataset3(fruit_path, person_path, car_path, descriptor):\n",
    "    \n",
    "    # list to store extracted features of an image\n",
    "    features = []\n",
    "    \n",
    "    # list to store class label, 1 for live, 0 for spoof\n",
    "    labels = []    \n",
    "    \n",
    "    radius = 3\n",
    "    \n",
    "    # number of neighbors to consider for LBP\n",
    "    n_points = 8 * radius \n",
    "    \n",
    "    # sampling type for LBP\n",
    "    METHOD = 'uniform'       \n",
    "    \n",
    "    path_array = [fruit_path, person_path, car_path]\n",
    "    \n",
    "    for path in path_array:\n",
    "        \n",
    "        # storing all images in a folder in a list 'files'\n",
    "        files = os.listdir(path) \n",
    "        # loop through the images in the folder\n",
    "        for img in files:\n",
    "#             print(path + img)\n",
    "            # reading the image in grayscale using cv2\n",
    "            img = cv2.imread(path +'/'+ img, cv2.IMREAD_GRAYSCALE)\n",
    "            \n",
    "            # resizing the image so all images are of same size\n",
    "            resized_img = cv2.resize(img, (100, 100))  \n",
    "            \n",
    "            # Extracting features of an image using LBP\n",
    "            if descriptor == 'LBP':    \n",
    "                lbp = local_binary_pattern(resized_img, n_points, radius, METHOD)\n",
    "                \n",
    "                 # Converting into 1-D array\n",
    "                feature=lbp.flatten()\n",
    "                \n",
    "            # Extracting features of an image using HOG     \n",
    "            elif descriptor == 'HOG': \n",
    "                feature, hog_image = hog(resized_img, orientations=9, pixels_per_cell=(8, 8),\n",
    "                                cells_per_block=(2, 2), visualize=True, multichannel=False)\n",
    "            elif descriptor == 'Hough':\n",
    "                lines_list =[]\n",
    "                canny = cv2.Canny(resized_img,50,150,apertureSize=3) \n",
    "                \n",
    "                feature = cv2.HoughLines(canny,1,np.pi/180,5)\n",
    "                feature = np.array(feature, dtype=np.float64)\n",
    "                #fd_arr = np.array(fd)\n",
    "                #fd=lines.flatten()\n",
    "            # label 1 for live images, 0 for spoof images\n",
    "            #print(fd)\n",
    "            class_identifier = 1         \n",
    "            if 'fruit' in path:\n",
    "                class_identifier = 0\n",
    "            elif 'motorbike' in path:\n",
    "                class_identifier = 1\n",
    "            elif 'person' in path:\n",
    "                class_identifier = 2\n",
    "             # appending exracted features to the list\n",
    "            \n",
    "            features.append(feature) \n",
    "            \n",
    "            #adding corresponding class label to the list\n",
    "            labels.append(class_identifier)  \n",
    "           \n",
    "                   \n",
    "    return features,labels"
   ]
  },
  {
   "cell_type": "code",
   "execution_count": 88,
   "id": "1deef4ab",
   "metadata": {},
   "outputs": [],
   "source": [
    "training_fruit_path = r\"D:\\8thSemester\\Image Processing\\Project\\Data\\split\\fruit-train\"\n",
    "training_person_path = r\"D:\\8thSemester\\Image Processing\\Project\\Data\\split\\person-train\"\n",
    "testing_fruit_path = r\"D:\\8thSemester\\Image Processing\\Project\\Data\\split\\fruit-test\"\n",
    "testing_person_path = r\"D:\\8thSemester\\Image Processing\\Project\\Data\\split\\person-test\""
   ]
  },
  {
   "cell_type": "code",
   "execution_count": 2,
   "id": "1af29d8f",
   "metadata": {},
   "outputs": [],
   "source": [
    "training_fruit_path = r\"D:\\8thSemester\\Image Processing\\Project\\Data\\split\\fruit-train\"\n",
    "training_person_path = r\"D:\\8thSemester\\Image Processing\\Project\\Data\\split\\person-train\"\n",
    "training_bike_path = r\"D:\\8thSemester\\Image Processing\\Project\\Data\\split\\motorbike-train\"\n",
    "testing_fruit_path = r\"D:\\8thSemester\\Image Processing\\Project\\Data\\split\\fruit-test\"\n",
    "testing_person_path = r\"D:\\8thSemester\\Image Processing\\Project\\Data\\split\\person-test\"\n",
    "testing_bike_path = r\"D:\\8thSemester\\Image Processing\\Project\\Data\\split\\motorbike-test\"\n"
   ]
  },
  {
   "cell_type": "code",
   "execution_count": 21,
   "id": "8fa6b824",
   "metadata": {},
   "outputs": [],
   "source": [
    "# LBP \n",
    "\n",
    "# Training and testing datasets\n",
    "lbp_x_trn,lbp_y_trn = create_dataset3(training_fruit_path,training_person_path, training_bike_path, 'LBP') \n",
    "lbp_x_tst,lbp_y_tst = create_dataset3(testing_fruit_path,testing_person_path, testing_bike_path, 'LBP')\n",
    "\n"
   ]
  },
  {
   "cell_type": "code",
   "execution_count": 22,
   "id": "c7a6ed1c",
   "metadata": {},
   "outputs": [],
   "source": [
    "#LBP, RF\n",
    "# Feature Scaling\n",
    "scaler = StandardScaler()\n",
    "lbp_x_trn = scaler.fit_transform(lbp_x_trn)\n",
    "lbp_x_tst = scaler.transform(lbp_x_tst)\n",
    "\n",
    "# Fitting Random Forest Classification to the Training set\n",
    "classifier = RandomForestClassifier(n_estimators = 10, criterion = 'entropy', random_state = 42)\n",
    "classifier.fit(lbp_x_trn, lbp_y_trn)\n",
    "\n",
    "# Predicting the Test set results\n",
    "y_pred = classifier.predict(lbp_x_tst)\n",
    "# Making the Confusion Matrix\n",
    "#print(pd.crosstab(lbp_y_tst, y_pred, rownames=['Actual Species'], colnames=['Predicted Species']))"
   ]
  },
  {
   "cell_type": "code",
   "execution_count": 24,
   "id": "20e077ab",
   "metadata": {},
   "outputs": [
    {
     "name": "stdout",
     "output_type": "stream",
     "text": [
      "LBP Accuracy: 0.9619565217391305\n",
      "\n",
      "\n"
     ]
    },
    {
     "data": {
      "image/png": "[encoded data removed]",
      "text/plain": [
       "<Figure size 432x288 with 2 Axes>"
      ]
     },
     "metadata": {
      "needs_background": "light"
     },
     "output_type": "display_data"
    }
   ],
   "source": [
    "import seaborn as sn\n",
    "import pandas as pd\n",
    "import matplotlib.pyplot as plt\n",
    "from sklearn.metrics import plot_confusion_matrix\n",
    "from sklearn import metrics\n",
    "print(\"LBP Accuracy: \"+str(accuracy_score(lbp_y_tst, y_pred)))\n",
    "print('\\n')\n",
    "#print(classification_report(lbp_y_tst, y_pred))\n",
    "confusion_matrix = metrics.confusion_matrix(lbp_y_tst, y_pred)\n",
    "cm_display = metrics.ConfusionMatrixDisplay(confusion_matrix = confusion_matrix, display_labels = [\"Fruit\", \"Motorbike\", \"Person\"])\n",
    "\n",
    "cm_display.plot()\n",
    "plt.show()"
   ]
  },
  {
   "cell_type": "code",
   "execution_count": 31,
   "id": "695e4dcd",
   "metadata": {},
   "outputs": [],
   "source": [
    "# importing necessary libraries\n",
    "from sklearn import datasets\n",
    "from sklearn.metrics import confusion_matrix\n",
    "from sklearn.model_selection import train_test_split\n",
    "\n",
    "# training a linear SVM classifier\n",
    "from sklearn.svm import SVC\n",
    "svm_model_linear = SVC(kernel = 'linear', C = 1).fit(X_train, y_train)\n",
    "svm_predictions = svm_model_linear.predict(X_test)\n",
    "\n",
    "# model accuracy for X_test\n",
    "accuracy = svm_model_linear.score(X_test, y_test)\n",
    "\n",
    "# creating a confusion matrix\n",
    "cm = confusion_matrix(y_test, svm_predictions)\n"
   ]
  },
  {
   "cell_type": "code",
   "execution_count": 32,
   "id": "8acdf5ee",
   "metadata": {},
   "outputs": [
    {
     "name": "stdout",
     "output_type": "stream",
     "text": [
      "0.9945652173913043\n"
     ]
    },
    {
     "data": {
      "image/png": "[encoded data removed]",
      "text/plain": [
       "<Figure size 432x288 with 2 Axes>"
      ]
     },
     "metadata": {
      "needs_background": "light"
     },
     "output_type": "display_data"
    }
   ],
   "source": [
    "import matplotlib.pyplot as plt\n",
    "import numpy\n",
    "from sklearn import metrics\n",
    "print(accuracy)\n",
    "cm_display = metrics.ConfusionMatrixDisplay(confusion_matrix = cm, display_labels = [\"Fruit\", \"Motorbike\", \"Person\"])\n",
    "\n",
    "cm_display.plot()\n",
    "plt.show()"
   ]
  },
  {
   "cell_type": "code",
   "execution_count": 19,
   "id": "468867e6",
   "metadata": {},
   "outputs": [
    {
     "name": "stderr",
     "output_type": "stream",
     "text": [
      "C:\\Users\\Mehedi\\AppData\\Local\\Temp\\ipykernel_11132\\1529903522.py:42: FutureWarning: `multichannel` is a deprecated argument name for `hog`. It will be removed in version 1.0. Please use `channel_axis` instead.\n",
      "  feature, hog_image = hog(resized_img, orientations=9, pixels_per_cell=(8, 8),\n"
     ]
    }
   ],
   "source": [
    "# HOG, RF\n",
    "\n",
    "# Training and testing datasets\n",
    "HOG_x_trn,HOG_y_trn = create_dataset3(training_fruit_path,training_person_path, training_bike_path, 'HOG') \n",
    "HOG_x_tst,HOG_y_tst = create_dataset3(testing_fruit_path,testing_person_path, testing_bike_path, 'HOG')\n",
    "\n",
    "# Feature Scaling\n",
    "scaler = StandardScaler()\n",
    "HOG_x_trn = scaler.fit_transform(HOG_x_trn)\n",
    "HOG_x_tst = scaler.transform(HOG_x_tst)\n",
    "\n",
    "# Fitting Random Forest Classification to the Training set\n",
    "classifier = RandomForestClassifier(n_estimators = 10, criterion = 'entropy', random_state = 42)\n",
    "classifier.fit(HOG_x_trn, HOG_y_trn)\n",
    "\n",
    "# Predicting the Test set results\n",
    "y_pred = classifier.predict(HOG_x_tst)"
   ]
  },
  {
   "cell_type": "code",
   "execution_count": 20,
   "id": "264ea8a9",
   "metadata": {
    "scrolled": true
   },
   "outputs": [
    {
     "name": "stdout",
     "output_type": "stream",
     "text": [
      "HOG Accuracy: 0.9963768115942029\n",
      "\n",
      "\n"
     ]
    },
    {
     "data": {
      "image/png": "[encoded data removed]",
      "text/plain": [
       "<Figure size 432x288 with 2 Axes>"
      ]
     },
     "metadata": {
      "needs_background": "light"
     },
     "output_type": "display_data"
    }
   ],
   "source": [
    "print(\"HOG Accuracy: \"+str(accuracy_score(HOG_y_tst, y_pred)))\n",
    "print('\\n')\n",
    "#print(classification_report(HOG_y_tst, y_pred))\n",
    "confusion_matrix = metrics.confusion_matrix(HOG_y_tst, y_pred)\n",
    "cm_display = metrics.ConfusionMatrixDisplay(confusion_matrix = confusion_matrix, display_labels = [\"Fruit\", \"Motorbike\", \"Person\"])\n",
    "\n",
    "cm_display.plot()\n",
    "\n",
    "#plt.grid(b=None)\n",
    "plt.show()"
   ]
  },
  {
   "cell_type": "code",
   "execution_count": 11,
   "id": "526a47e9",
   "metadata": {},
   "outputs": [
    {
     "name": "stderr",
     "output_type": "stream",
     "text": [
      "C:\\Users\\Mehedi\\AppData\\Local\\Temp\\ipykernel_11132\\1529903522.py:42: FutureWarning: `multichannel` is a deprecated argument name for `hog`. It will be removed in version 1.0. Please use `channel_axis` instead.\n",
      "  feature, hog_image = hog(resized_img, orientations=9, pixels_per_cell=(8, 8),\n"
     ]
    }
   ],
   "source": [
    "# LBP \n",
    "\n",
    "# Training and testing datasets\n",
    "X_train,y_train = create_dataset3(training_fruit_path,training_person_path, training_bike_path, 'HOG') \n",
    "X_test,y_test = create_dataset3(testing_fruit_path,testing_person_path, testing_bike_path, 'HOG')\n",
    "\n"
   ]
  },
  {
   "cell_type": "code",
   "execution_count": 12,
   "id": "c766f332",
   "metadata": {},
   "outputs": [],
   "source": [
    "# importing necessary libraries\n",
    "from sklearn import datasets\n",
    "from sklearn.metrics import confusion_matrix\n",
    "from sklearn.model_selection import train_test_split\n",
    "\n",
    "# loading the iris dataset\n",
    "#iris = datasets.load_iris()\n",
    "\n",
    "# X -> features, y -> label\n",
    "#X = iris.data\n",
    "#y = iris.target\n",
    "\n",
    "# dividing X, y into train and test data\n",
    "#X_train, X_test, y_train, y_test = train_test_split(X, y, random_state = 0)\n",
    "\n",
    "# training a linear SVM classifier\n",
    "from sklearn.svm import SVC\n",
    "svm_model_linear = SVC(kernel = 'linear', C = 1).fit(X_train, y_train)\n",
    "svm_predictions = svm_model_linear.predict(X_test)\n",
    "\n",
    "# model accuracy for X_test\n",
    "accuracy = svm_model_linear.score(X_test, y_test)\n",
    "\n",
    "# creating a confusion matrix\n",
    "cm = confusion_matrix(y_test, svm_predictions)\n"
   ]
  },
  {
   "cell_type": "code",
   "execution_count": 17,
   "id": "26ea3fe3",
   "metadata": {},
   "outputs": [
    {
     "name": "stdout",
     "output_type": "stream",
     "text": [
      "1.0\n"
     ]
    },
    {
     "data": {
      "image/png": "[encoded data removed]",
      "text/plain": [
       "<Figure size 432x288 with 2 Axes>"
      ]
     },
     "metadata": {
      "needs_background": "light"
     },
     "output_type": "display_data"
    }
   ],
   "source": [
    "import matplotlib.pyplot as plt\n",
    "import numpy\n",
    "from sklearn import metrics\n",
    "\n",
    "print(accuracy)\n",
    "cm_display = metrics.ConfusionMatrixDisplay(confusion_matrix = cm, display_labels = [\"Fruit\", \"Motorbike\", \"Person\"])\n",
    "\n",
    "cm_display.plot()\n",
    "plt.show()"
   ]
  },
  {
   "cell_type": "code",
   "execution_count": null,
   "id": "8fb849ba",
   "metadata": {},
   "outputs": [],
   "source": []
  }
 ],
 "metadata": {
  "kernelspec": {
   "display_name": "Python 3 (ipykernel)",
   "language": "python",
   "name": "python3"
  },
  "language_info": {
   "codemirror_mode": {
    "name": "ipython",
    "version": 3
   },
   "file_extension": ".py",
   "mimetype": "text/x-python",
   "name": "python",
   "nbconvert_exporter": "python",
   "pygments_lexer": "ipython3",
   "version": "3.9.12"
  }
 },
 "nbformat": 4,
 "nbformat_minor": 5
}
